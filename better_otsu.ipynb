{
 "cells": [
  {
   "cell_type": "code",
   "execution_count": 1,
   "metadata": {
    "collapsed": true
   },
   "outputs": [],
   "source": [
    "from aicsimageio import AICSImage\n",
    "import napari\n",
    "from aicsimageio.readers import CziReader\n",
    "import cv2 as cv\n",
    "import numpy as np\n",
    "import matplotlib.pyplot as plt"
   ]
  },
  {
   "cell_type": "code",
   "execution_count": 2,
   "outputs": [],
   "source": [
    "\n",
    "\n",
    "#ALL USED FUNCTIONS\n",
    "\n",
    "\n",
    "#VISUALIZATION\n",
    "# visualize the image with napari using its numpy array\n",
    "def visualize_napari(numpy_img: np.ndarray, name):\n",
    "    \"\"\"\n",
    "    :param numpy_img: image to be visualized\n",
    "    \"\"\"\n",
    "    with napari.gui_qt():\n",
    "        viewer = napari.Viewer()\n",
    "        viewer.add_image(numpy_img, name=name)\n",
    "\n",
    "\n",
    "# visualize different images in the same moment\n",
    "def visualize_all_list_napari(numpy_img_list: np.ndarray, names):\n",
    "    \"\"\"\n",
    "    :param numpy_img_list: list containing different images to be visualized\n",
    "    \"\"\"\n",
    "    with napari.gui_qt():\n",
    "        viewer = napari.Viewer()\n",
    "        for i, img in enumerate(numpy_img_list):\n",
    "            viewer.add_image(img, name=names[i])\n",
    "\n",
    "\n",
    "#PREPROCESSING\n",
    "def sharpen(image: np.ndarray):\n",
    "    \"\"\"\n",
    "    Sharpen the image\n",
    "    :param image: image to be sharpened\n",
    "    :return: sharp image\n",
    "    \"\"\"\n",
    "    kernel = np.array([[-1, -1, -1], [-1, 9, -1], [-1, -1, -1]])\n",
    "    return cv.filter2D(image, -1, kernel)\n",
    "\n",
    "\n",
    "#THRESHOLDING\n",
    "\n",
    "# compute Otsu's thresholding\n",
    "def otsu_thresholding(image: np.ndarray):\n",
    "    \"\"\"\n",
    "    Threshold and binarize an image using Otsu's method\n",
    "\n",
    "    :param image: image you want to threshold\n",
    "    :return: ret: threshold value\n",
    "              th: binary image\n",
    "    \"\"\"\n",
    "    ret, th = cv.threshold(image, 0, 255, cv.THRESH_BINARY + cv.THRESH_OTSU)\n",
    "    #ret is the computed value of the threshold AND th is the image with the threshold applied\n",
    "    return ret, th\n",
    "\n",
    "\n",
    "# split the whole images into tiles\n",
    "def split_into_tiles(image: np.ndarray, tile_size: int):\n",
    "    \"\"\"\n",
    "    split image into tiles of shape tile_size*tile_size\n",
    "\n",
    "    :param image: image to be split\n",
    "    :param tile_size: dimensions of single tiles\n",
    "    :return: tiles: list with the different tiles\n",
    "    \"\"\"\n",
    "    tiles = []\n",
    "    for i in range(0, image.shape[0], tile_size):\n",
    "        for j in range(0, image.shape[1], tile_size):\n",
    "            tile = image[i:i + tile_size, j:j + tile_size]\n",
    "            tiles.append(tile)\n",
    "    return tiles\n",
    "\n",
    "\n",
    "#reconstruct image from different tiles given the number of tiles in x and y direction and a list of tiles\n",
    "def reconstruct_image(tiles: list, x_tiles: int, y_tiles: int):\n",
    "    \"\"\"\n",
    "    :param tiles:    list with the different single tiles\n",
    "    :param x_tiles:  how many tiles fit in the x axis\n",
    "    :param y_tiles:  how many tiles fit in the y axis\n",
    "    :return:         numpy array, reconstructed image\n",
    "    \"\"\"\n",
    "    big_image = np.zeros((x_tiles * tiles[0].shape[0], y_tiles * tiles[0].shape[1]))\n",
    "    for i in range(x_tiles):\n",
    "        for j in range(y_tiles):\n",
    "            big_image[i * tiles[0].shape[0]:(i + 1) * tiles[0].shape[0],\n",
    "            j * tiles[0].shape[1]:(j + 1) * tiles[0].shape[1]] = tiles[i * y_tiles + j]\n",
    "    return big_image\n",
    "\n",
    "\n",
    "def otsu_split_thresholding(img: np.ndarray, tile_size=16):\n",
    "    \"\"\"\n",
    "    Perform Otsu tresholding on sub images of 16 x 16,\n",
    "    if a tile is all white do not apply otsu\n",
    "\n",
    "    :param img:  image to be\n",
    "    :return thresholded_tiles_sharp: list with thresholded tiles, to be recomposed\n",
    "    \"\"\"\n",
    "    #sharpen image\n",
    "    sharpened_img = sharpen(img)\n",
    "    #get the maximum of the sharpened img, needed to check ig image is all white\n",
    "    max_value = sharpened_img.max()\n",
    "    #split\n",
    "    tiles_sharpened = split_into_tiles(sharpened_img, tile_size)\n",
    "    #do thresholding\n",
    "    thresholded_tiles_sharp = []\n",
    "    for t in tiles_sharpened:\n",
    "        #check if mostly white #ATTENTION, im touching the og in memory. If yes set direclty to black\n",
    "        if check_all_white_tile(t, max_value):\n",
    "            th = set_zero(t)\n",
    "            thresholded_tiles_sharp.append(th)\n",
    "        #else do thresholding\n",
    "        else:\n",
    "            r, th = otsu_thresholding(t)\n",
    "            if np.sum(th == 0) < 215 and np.sum(th == 0) > 190: #we have a bacilli: #we\n",
    "                new_t=sharpen2(t)\n",
    "                r,th_new=otsu_thresholding(new_t)\n",
    "                thresholded_tiles_sharp.append(th_new)\n",
    "            else:\n",
    "                thresholded_tiles_sharp.append(th)\n",
    "\n",
    "\n",
    "    return thresholded_tiles_sharp\n",
    "\n",
    "\n",
    "def otsu_cleaned_split_thresholding(img):\n",
    "    \"\"\"\n",
    "    Performe otsu thresholding on 16 x 16 images, then clean the image,\n",
    "     delete the noise\n",
    "\n",
    "    :param img: image to be tresholded\n",
    "    :return:    tresholded clean image\n",
    "    \"\"\"\n",
    "\n",
    "    #list with the thresholded tiles size 16x16\n",
    "    thresholded_tiles = otsu_split_thresholding(img, 16)\n",
    "\n",
    "    #clean\n",
    "    cleaned_tiles = []\n",
    "    for tl in thresholded_tiles:\n",
    "        #check if image is not a bacilli\n",
    "        if check_image(tl):\n",
    "            #im not a bacilli\n",
    "            m = set_zero(tl)\n",
    "            cleaned_tiles.append(m)\n",
    "        else:\n",
    "            #i am a bacilli\n",
    "            cleaned_tiles.append(tl)\n",
    "\n",
    "    #reconstruct\n",
    "    reconstructed_clean_image = reconstruct_image(cleaned_tiles, 128, 94)\n",
    "\n",
    "    #final cleaning\n",
    "    #final_cleaned_image = (reconstructed_clean_image)\n",
    "\n",
    "    #visualize\n",
    "    #visualize_all_list_napari([reconstructed_image, reconstructed_clean_image,sharpened_img,img], [\"reconstructed_image\",\"reconstructed_clean_image\",\"sharpened_img\",\"img\"])\n",
    "\n",
    "    return reconstructed_clean_image\n",
    "\n",
    "\n",
    "#POSTPROCESSING\n",
    "\n",
    "def check_image(img: np.ndarray):\n",
    "    \"\"\"\n",
    "    For every sub-image we check if its worth keeping or not\n",
    "    215 pretty hard-coded---> maybe rely on scientific paper to find the optimal number\n",
    "\n",
    "    :param img: image to be checked\n",
    "    :return: bool\n",
    "    \"\"\"\n",
    "\n",
    "    if np.sum(img == 0) > 215:  #we have a bacilli\n",
    "        return False\n",
    "    else:\n",
    "        return True\n",
    "\n",
    "\n",
    "#set pixels that are 255 to zero (black)\n",
    "def set_zero(img):\n",
    "    h = img\n",
    "    h[h > 0] = 0\n",
    "    return h\n",
    "\n",
    "\n",
    "def check_all_white_tile(img, max_value_global):\n",
    "    \"\"\"\n",
    "    Check if we have a huge bright tile. if a 16 x 16 tile is all white--->\n",
    "    we want it black. Check based on global max pixel value\n",
    "\n",
    "    :param img: tile to be checked if white\n",
    "    :param max_value: max value pixel of whole image\n",
    "    :return:\n",
    "    \"\"\"\n",
    "    if np.sum(img > 0.2 * max_value_global) > 0.9 * img.shape[0] * img.shape[1]:\n",
    "        return True\n",
    "    else:\n",
    "        return False\n",
    "\n",
    "\n",
    "def clean_connected_components(img: np.ndarray):\n",
    "    \"\"\"\n",
    "    Clean image with 2 approaches: delete connected components that have are up to 2 pixels\n",
    "                                   connect bacilli that are separated by just one black pixel\n",
    "\n",
    "    :param img: image to be cleaned\n",
    "    :return:    cleaned image\n",
    "    \"\"\"\n",
    "\n",
    "    #find connected components\n",
    "    num_labels, labels_im, stats, centroids = cv.connectedComponentsWithStats(np.uint8(img), connectivity=8)\n",
    "    #stats = x,y,w,h,area\n",
    "\n",
    "    #put to black connected components which area is equal to 1 or 2\n",
    "    for i in range(1, num_labels):\n",
    "        if stats[i][4] < 3:\n",
    "            img[labels_im == i] = 0\n",
    "    #do not want to connect bacilli in original, want to connect after little components are gone\n",
    "    img2 = img.copy()\n",
    "    #connect the bacilli, by putting a white tile\n",
    "    for i in range(1, img.shape[0] - 1):\n",
    "        for j in range(1, img.shape[1] - 1):\n",
    "            if img[i, j] == 0:\n",
    "                if (img[i - 1, j] == 255 and img[i + 1, j] == 255) or (img[i, j - 1] == 255 and img[i, j + 1] == 255) \\\n",
    "                        or (img[i - 1, j - 1] == 255 and img[i + 1, j + 1]) or (\n",
    "                        img[i - 1, j + 1] == 255 and img[i + 1, j - 1] == 255) \\\n",
    "                        or (img[i - 1, j] == 255 and img[i + 1, j + 1] == 255) or (\n",
    "                        img[i - 1, j + 1] == 255 and img[i + 1, j] == 255) \\\n",
    "                        or (img[i - 1, j] == 255 and img[i + 1, j - 1] == 255) or (\n",
    "                        img[i - 1, j - 1] == 255 and img[i + 1, j] == 255) \\\n",
    "                        or (img[i, j - 1] == 255 and img[i + 1, j + 1] == 255) or (\n",
    "                        img[i, j - 1] == 255 and img[i - 1, j + 1] == 255) \\\n",
    "                        or (img[i, j + 1] == 255 and img[i + 1, j - 1] == 255) or (\n",
    "                        img[i, j + 1] == 255 and img[i - 1, j - 1] == 255):\n",
    "                    img2[i, j] = 255\n",
    "\n",
    "    return img2\n",
    "\n",
    "\n",
    "# add the 2d bounding boxes to the image\n",
    "def add_bounding_boxes(image, stats):\n",
    "    \"\"\"\n",
    "    Add white rectangles around bacilli, based on conected components\n",
    "\n",
    "    :param image: image with bacilli to be boxed\n",
    "    :param coordinates:  coordinates of the center of the bacillus\n",
    "    \"\"\"\n",
    "    for i in range(1, len(stats)):\n",
    "        x = stats[i][0] - 5\n",
    "        #x_max = coordinates[i][0]\n",
    "        y = stats[i][1] - 5\n",
    "        #y_max = coordinates[i][1]\n",
    "        h = stats[i][3]\n",
    "        w = stats[i][2]\n",
    "        cv.rectangle(image, (x, y), (x + w + 10, y + h + 10), (5000, 255, 255), 1)\n",
    "    return image\n",
    "\n",
    "\n",
    "def sharpen2(img):\n",
    "    return cv.addWeighted(img, 4, cv.blur(img, (30, 30)), -4, 128)\n"
   ],
   "metadata": {
    "collapsed": false
   }
  },
  {
   "cell_type": "code",
   "execution_count": 3,
   "outputs": [
    {
     "ename": "FileNotFoundError",
     "evalue": "file://C:/Users/matteo/Desktop/proiecc/extern_Synlab_2156_17_3_MTB.czi",
     "output_type": "error",
     "traceback": [
      "\u001B[1;31m---------------------------------------------------------------------------\u001B[0m",
      "\u001B[1;31mFileNotFoundError\u001B[0m                         Traceback (most recent call last)",
      "Cell \u001B[1;32mIn[3], line 4\u001B[0m\n\u001B[0;32m      1\u001B[0m \u001B[38;5;66;03m#PIPELINE (until the end)\u001B[39;00m\n\u001B[0;32m      2\u001B[0m \n\u001B[0;32m      3\u001B[0m \u001B[38;5;66;03m# Load the image\u001B[39;00m\n\u001B[1;32m----> 4\u001B[0m reader \u001B[38;5;241m=\u001B[39m \u001B[43mCziReader\u001B[49m\u001B[43m(\u001B[49m\u001B[38;5;124;43m\"\u001B[39;49m\u001B[38;5;124;43mextern_Synlab_2156_17_3_MTB.czi\u001B[39;49m\u001B[38;5;124;43m\"\u001B[39;49m\u001B[43m)\u001B[49m\n\u001B[0;32m      5\u001B[0m \u001B[38;5;66;03m# Get whole image\u001B[39;00m\n\u001B[0;32m      6\u001B[0m smear \u001B[38;5;241m=\u001B[39m reader\u001B[38;5;241m.\u001B[39mget_image_data(\u001B[38;5;124m\"\u001B[39m\u001B[38;5;124mMYX\u001B[39m\u001B[38;5;124m\"\u001B[39m, C\u001B[38;5;241m=\u001B[39m\u001B[38;5;241m0\u001B[39m)\n",
      "File \u001B[1;32m~\\anaconda3\\envs\\tub\\lib\\site-packages\\aicsimageio\\readers\\czi_reader.py:112\u001B[0m, in \u001B[0;36mCziReader.__init__\u001B[1;34m(self, image, chunk_dims, include_subblock_metadata, fs_kwargs)\u001B[0m\n\u001B[0;32m    104\u001B[0m \u001B[38;5;28;01mdef\u001B[39;00m \u001B[38;5;21m__init__\u001B[39m(\n\u001B[0;32m    105\u001B[0m     \u001B[38;5;28mself\u001B[39m,\n\u001B[0;32m    106\u001B[0m     image: types\u001B[38;5;241m.\u001B[39mPathLike,\n\u001B[1;32m   (...)\u001B[0m\n\u001B[0;32m    110\u001B[0m ):\n\u001B[0;32m    111\u001B[0m     \u001B[38;5;66;03m# Expand details of provided image\u001B[39;00m\n\u001B[1;32m--> 112\u001B[0m     \u001B[38;5;28mself\u001B[39m\u001B[38;5;241m.\u001B[39m_fs, \u001B[38;5;28mself\u001B[39m\u001B[38;5;241m.\u001B[39m_path \u001B[38;5;241m=\u001B[39m \u001B[43mio_utils\u001B[49m\u001B[38;5;241;43m.\u001B[39;49m\u001B[43mpathlike_to_fs\u001B[49m\u001B[43m(\u001B[49m\n\u001B[0;32m    113\u001B[0m \u001B[43m        \u001B[49m\u001B[43mimage\u001B[49m\u001B[43m,\u001B[49m\n\u001B[0;32m    114\u001B[0m \u001B[43m        \u001B[49m\u001B[43menforce_exists\u001B[49m\u001B[38;5;241;43m=\u001B[39;49m\u001B[38;5;28;43;01mTrue\u001B[39;49;00m\u001B[43m,\u001B[49m\n\u001B[0;32m    115\u001B[0m \u001B[43m        \u001B[49m\u001B[43mfs_kwargs\u001B[49m\u001B[38;5;241;43m=\u001B[39;49m\u001B[43mfs_kwargs\u001B[49m\u001B[43m,\u001B[49m\n\u001B[0;32m    116\u001B[0m \u001B[43m    \u001B[49m\u001B[43m)\u001B[49m\n\u001B[0;32m    118\u001B[0m     \u001B[38;5;66;03m# Catch non-local file system\u001B[39;00m\n\u001B[0;32m    119\u001B[0m     \u001B[38;5;28;01mif\u001B[39;00m \u001B[38;5;129;01mnot\u001B[39;00m \u001B[38;5;28misinstance\u001B[39m(\u001B[38;5;28mself\u001B[39m\u001B[38;5;241m.\u001B[39m_fs, LocalFileSystem):\n",
      "File \u001B[1;32m~\\anaconda3\\envs\\tub\\lib\\site-packages\\aicsimageio\\utils\\io_utils.py:56\u001B[0m, in \u001B[0;36mpathlike_to_fs\u001B[1;34m(uri, enforce_exists, fs_kwargs)\u001B[0m\n\u001B[0;32m     54\u001B[0m \u001B[38;5;28;01mif\u001B[39;00m enforce_exists:\n\u001B[0;32m     55\u001B[0m     \u001B[38;5;28;01mif\u001B[39;00m \u001B[38;5;129;01mnot\u001B[39;00m fs\u001B[38;5;241m.\u001B[39mexists(path):\n\u001B[1;32m---> 56\u001B[0m         \u001B[38;5;28;01mraise\u001B[39;00m \u001B[38;5;167;01mFileNotFoundError\u001B[39;00m(\u001B[38;5;124mf\u001B[39m\u001B[38;5;124m\"\u001B[39m\u001B[38;5;132;01m{\u001B[39;00mfs\u001B[38;5;241m.\u001B[39mprotocol\u001B[38;5;132;01m}\u001B[39;00m\u001B[38;5;124m://\u001B[39m\u001B[38;5;132;01m{\u001B[39;00mpath\u001B[38;5;132;01m}\u001B[39;00m\u001B[38;5;124m\"\u001B[39m)\n\u001B[0;32m     58\u001B[0m \u001B[38;5;66;03m# Get and store details\u001B[39;00m\n\u001B[0;32m     59\u001B[0m \u001B[38;5;66;03m# We do not return an AbstractBufferedFile (i.e. fs.open) as we do not want to have\u001B[39;00m\n\u001B[0;32m     60\u001B[0m \u001B[38;5;66;03m# any open file buffers _after_ any API call. API calls must themselves call\u001B[39;00m\n\u001B[0;32m     61\u001B[0m \u001B[38;5;66;03m# fs.open and complete their function during the context of the opened buffer.\u001B[39;00m\n\u001B[0;32m     62\u001B[0m \u001B[38;5;28;01mreturn\u001B[39;00m fs, path\n",
      "\u001B[1;31mFileNotFoundError\u001B[0m: file://C:/Users/matteo/Desktop/proiecc/extern_Synlab_2156_17_3_MTB.czi"
     ]
    }
   ],
   "source": [
    "\n",
    "#PIPELINE (until the end)\n",
    "\n",
    "# Load the image\n",
    "reader = CziReader(\"extern_Synlab_2156_17_3_MTB.czi\")\n",
    "# Get whole image\n",
    "smear = reader.get_image_data(\"MYX\", C=0)"
   ],
   "metadata": {
    "collapsed": false
   }
  },
  {
   "cell_type": "code",
   "execution_count": null,
   "outputs": [],
   "source": [
    "\n",
    "# save in a new variable the information regarding the 673th tile out of 1345\n",
    "img = smear[673]\n",
    "print(img.shape)\n",
    "real_image = img.copy()"
   ],
   "metadata": {
    "collapsed": false
   }
  },
  {
   "cell_type": "code",
   "execution_count": null,
   "outputs": [],
   "source": [
    "\n",
    "#for comparison\n",
    "_, otsu_thresholded_entire_og_img = otsu_thresholding(img)\n",
    "sharpened_img = sharpen(img)\n",
    "_, otsu_thresholded_entire_sharp_img = otsu_thresholding(sharpened_img)"
   ],
   "metadata": {
    "collapsed": false
   }
  },
  {
   "cell_type": "code",
   "execution_count": null,
   "outputs": [],
   "source": [
    "\n",
    "\n",
    "#do split thresholding\n",
    "otsu_st_16 = reconstruct_image(otsu_split_thresholding(img, 16), 128, 94)"
   ],
   "metadata": {
    "collapsed": false
   }
  },
  {
   "cell_type": "code",
   "execution_count": null,
   "outputs": [],
   "source": [
    "\n",
    "#do split thresholding and clean noise from thresholding\n",
    "otsu_st_16_cleaned_from_noise = otsu_cleaned_split_thresholding(img)"
   ],
   "metadata": {
    "collapsed": false
   }
  },
  {
   "cell_type": "code",
   "execution_count": null,
   "outputs": [],
   "source": [
    "\n",
    "#save new copy for comparison, not needed if we dont want comparison\n",
    "a_bit_of_shit_in_our_bacilli_tiles = otsu_st_16_cleaned_from_noise.copy()"
   ],
   "metadata": {
    "collapsed": false
   }
  },
  {
   "cell_type": "code",
   "execution_count": null,
   "outputs": [],
   "source": [
    "\n",
    "#cut small connected components and connect bacilli\n",
    "cleaning_the_shit_on_the_bacilli_tiles = clean_connected_components(otsu_st_16_cleaned_from_noise)"
   ],
   "metadata": {
    "collapsed": false
   }
  },
  {
   "cell_type": "code",
   "execution_count": null,
   "outputs": [],
   "source": [
    "\n",
    "#get stats for drawing boxes\n",
    "num_labels, labels_im, stats, centroids = cv.connectedComponentsWithStats(\n",
    "    np.uint8(cleaning_the_shit_on_the_bacilli_tiles), connectivity=8)"
   ],
   "metadata": {
    "collapsed": false
   }
  },
  {
   "cell_type": "code",
   "execution_count": null,
   "outputs": [],
   "source": [
    "\n",
    "#another copy----ask marina\n",
    "bacilli = otsu_st_16_cleaned_from_noise.copy()"
   ],
   "metadata": {
    "collapsed": false
   }
  },
  {
   "cell_type": "code",
   "execution_count": null,
   "outputs": [],
   "source": [
    "\n",
    "#add the boxes\n",
    "box_bacilli = add_bounding_boxes(bacilli, stats)\n",
    "img_copy = img.copy()\n",
    "box_img = add_bounding_boxes(img_copy, stats)"
   ],
   "metadata": {
    "collapsed": false
   }
  },
  {
   "cell_type": "code",
   "execution_count": null,
   "outputs": [],
   "source": [
    "\n",
    "#visualize\n",
    "visualize_all_list_napari(\n",
    "    [box_img, box_bacilli, cleaning_the_shit_on_the_bacilli_tiles, a_bit_of_shit_in_our_bacilli_tiles,\n",
    "     otsu_st_16_cleaned_from_noise, otsu_st_16, img],\n",
    "    [\"og boxes\", \"boxes\", \"no 1s and unite bacilli\", \"a bit of artifacts\", \"cleaned split otsu\", \"split otsu\", \"og\"])"
   ],
   "metadata": {
    "collapsed": false
   }
  }
 ],
 "metadata": {
  "kernelspec": {
   "name": "tub",
   "language": "python",
   "display_name": "python tub"
  },
  "language_info": {
   "codemirror_mode": {
    "name": "ipython",
    "version": 2
   },
   "file_extension": ".py",
   "mimetype": "text/x-python",
   "name": "python",
   "nbconvert_exporter": "python",
   "pygments_lexer": "ipython2",
   "version": "2.7.6"
  }
 },
 "nbformat": 4,
 "nbformat_minor": 0
}
