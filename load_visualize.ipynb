{
 "cells": [
  {
   "cell_type": "code",
   "execution_count": 2,
   "metadata": {},
   "outputs": [
    {
     "name": "stdout",
     "output_type": "stream",
     "text": [
      "shape of the image with mosaic reconstruction:  (1, 1, 1, 46328, 92223)\n",
      "shape of the image without mosaic reconstruction:  (1345, 1, 1, 1, 2048, 1504)\n"
     ]
    }
   ],
   "source": [
    "from aicsimageio import AICSImage\n",
    "import napari\n",
    "\n",
    "\n",
    "img_mosaic_false = AICSImage(\"extern_Synlab_2156_17_3_MTB.czi\", reconstruct_mosaic=False)\n",
    "img_mosaic_true = AICSImage(\"extern_Synlab_2156_17_3_MTB.czi\", reconstruct_mosaic=True)\n",
    "print(\"shape of the image with mosaic reconstruction: \", img_mosaic_true.shape)\n",
    "print(\"shape of the image without mosaic reconstruction: \", img_mosaic_false.shape)\n",
    "\n",
    "\n",
    "def tonumpy(img, M = 1000):\n",
    "    \n",
    "    # if the image we want to visualize the whole smear, return the numpy array of the whole image\n",
    "    if img.shape[0] == 1:\n",
    "        return img.get_image_data(\"YX\", S=0, T=0, C=0, Z=0)\n",
    "    # if the image is stacked into tiles, return the numpy array of the tile\n",
    "    if img.shape[0] > 2:\n",
    "        return img.get_image_data(\"YX\", S=0, T=0, C=0, Z=0, M=M)\n",
    "    \n",
    "#print(f\"Dimensions of the image with mosaic reconstruction: {numpy_image_full.shape}\")\n",
    "#print(f\"Dimensions of the image without mosaic reconstruction: {numpy_image_single.shape}\")"
   ]
  },
  {
   "cell_type": "code",
   "execution_count": 3,
   "metadata": {},
   "outputs": [],
   "source": [
    "numpy_image_full = tonumpy(img_mosaic_true)"
   ]
  },
  {
   "cell_type": "code",
   "execution_count": 37,
   "metadata": {},
   "outputs": [],
   "source": [
    "numpy_image_single_15 = tonumpy(img_mosaic_false, 830)"
   ]
  },
  {
   "cell_type": "code",
   "execution_count": 7,
   "metadata": {},
   "outputs": [
    {
     "name": "stderr",
     "output_type": "stream",
     "text": [
      "/opt/anaconda3/envs/TB/lib/python3.9/site-packages/napari/_qt/qt_event_loop.py:284: FutureWarning: \n",
      "The 'gui_qt()' context manager is deprecated.\n",
      "If you are running napari from a script, please use 'napari.run()' as follows:\n",
      "\n",
      "    import napari\n",
      "\n",
      "    viewer = napari.Viewer()  # no prior setup needed\n",
      "    # other code using the viewer...\n",
      "    napari.run()\n",
      "\n",
      "In IPython or Jupyter, 'napari.run()' is not necessary. napari will automatically\n",
      "start an interactive event loop for you: \n",
      "\n",
      "    import napari\n",
      "    viewer = napari.Viewer()  # that's it!\n",
      "\n",
      "  warn(\n"
     ]
    }
   ],
   "source": [
    "def save_and_visualize(img, tile):\n",
    "    # choose tile number and visualize it\n",
    "    with napari.gui_qt():\n",
    "        viewer = napari.Viewer()\n",
    "        viewer.add_image(tonumpy(img, tile))\n",
    "        \n",
    "save_and_visualize(img_mosaic_false, 830)"
   ]
  },
  {
   "cell_type": "code",
   "execution_count": 5,
   "metadata": {},
   "outputs": [],
   "source": [
    "# visualize the image with napari using its numpy array\n",
    "def visualize_napari(numpy_img):\n",
    "    with napari.gui_qt():\n",
    "        viewer = napari.Viewer()\n",
    "        viewer.add_image(numpy_img)"
   ]
  },
  {
   "cell_type": "code",
   "execution_count": 25,
   "metadata": {},
   "outputs": [
    {
     "name": "stdout",
     "output_type": "stream",
     "text": [
      "(2048, 1504)\n",
      "(200, 200)\n"
     ]
    }
   ],
   "source": [
    "subset = numpy_image_single[100:300, 0:200]\n",
    "print(numpy_image_single.shape)\n",
    "print(subset.shape)"
   ]
  },
  {
   "cell_type": "code",
   "execution_count": 6,
   "metadata": {},
   "outputs": [
    {
     "name": "stderr",
     "output_type": "stream",
     "text": [
      "/opt/anaconda3/envs/TB/lib/python3.9/site-packages/napari/_qt/qt_event_loop.py:284: FutureWarning: \n",
      "The 'gui_qt()' context manager is deprecated.\n",
      "If you are running napari from a script, please use 'napari.run()' as follows:\n",
      "\n",
      "    import napari\n",
      "\n",
      "    viewer = napari.Viewer()  # no prior setup needed\n",
      "    # other code using the viewer...\n",
      "    napari.run()\n",
      "\n",
      "In IPython or Jupyter, 'napari.run()' is not necessary. napari will automatically\n",
      "start an interactive event loop for you: \n",
      "\n",
      "    import napari\n",
      "    viewer = napari.Viewer()  # that's it!\n",
      "\n",
      "  warn(\n",
      "/opt/anaconda3/envs/TB/lib/python3.9/site-packages/napari/_vispy/layers/image.py:259: UserWarning: data shape (92223, 46328) exceeds GL_MAX_TEXTURE_SIZE 16384 in at least one axis and will be downsampled. Rendering is currently in 2D mode.\n",
      "  warnings.warn(\n",
      "/opt/anaconda3/envs/TB/lib/python3.9/site-packages/napari/_vispy/layers/image.py:259: UserWarning: data shape (92223, 46328) exceeds GL_MAX_TEXTURE_SIZE 16384 in at least one axis and will be downsampled. Rendering is currently in 2D mode.\n",
      "  warnings.warn(\n"
     ]
    }
   ],
   "source": [
    "visualize_napari(numpy_image_full)"
   ]
  }
 ],
 "metadata": {
  "kernelspec": {
   "display_name": "Python 3.9.15 ('TB')",
   "language": "python",
   "name": "python3"
  },
  "language_info": {
   "codemirror_mode": {
    "name": "ipython",
    "version": 3
   },
   "file_extension": ".py",
   "mimetype": "text/x-python",
   "name": "python",
   "nbconvert_exporter": "python",
   "pygments_lexer": "ipython3",
   "version": "3.9.15"
  },
  "vscode": {
   "interpreter": {
    "hash": "4f19abd1b44d3ababfc9655fdc4228c8b5a5e2e5f7c5710341294ee3b86695e4"
   }
  }
 },
 "nbformat": 4,
 "nbformat_minor": 2
}
