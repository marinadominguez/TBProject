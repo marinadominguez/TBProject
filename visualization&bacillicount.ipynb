{
 "cells": [
  {
   "cell_type": "code",
   "execution_count": 1,
   "metadata": {},
   "outputs": [
    {
     "ename": "KeyboardInterrupt",
     "evalue": "",
     "output_type": "error",
     "traceback": [
      "\u001b[0;31m---------------------------------------------------------------------------\u001b[0m",
      "\u001b[0;31mKeyboardInterrupt\u001b[0m                         Traceback (most recent call last)",
      "Cell \u001b[0;32mIn[1], line 9\u001b[0m\n\u001b[1;32m      6\u001b[0m reader \u001b[39m=\u001b[39m CziReader(\u001b[39m\"\u001b[39m\u001b[39m/mnt/storage/TBProject/TB_sample/2022-06-29/extern_Synlab_2152_42_1_MTB.czi\u001b[39m\u001b[39m\"\u001b[39m)\n\u001b[1;32m      8\u001b[0m \u001b[39m# load as numpy array\u001b[39;00m\n\u001b[0;32m----> 9\u001b[0m smear \u001b[39m=\u001b[39m reader\u001b[39m.\u001b[39;49mget_image_data(\u001b[39m\"\u001b[39;49m\u001b[39mMYX\u001b[39;49m\u001b[39m\"\u001b[39;49m, C\u001b[39m=\u001b[39;49m\u001b[39m0\u001b[39;49m)\n\u001b[1;32m     12\u001b[0m \u001b[39m# save all images of the smear in tiff format\u001b[39;00m\n\u001b[1;32m     13\u001b[0m \u001b[39mfor\u001b[39;00m idx, img \u001b[39min\u001b[39;00m \u001b[39menumerate\u001b[39m(smear):\n",
      "File \u001b[0;32m~/anaconda3/envs/TB/lib/python3.9/site-packages/aicsimageio/readers/reader.py:685\u001b[0m, in \u001b[0;36mReader.get_image_data\u001b[0;34m(self, dimension_order_out, **kwargs)\u001b[0m\n\u001b[1;32m    681\u001b[0m     \u001b[39mreturn\u001b[39;00m \u001b[39mself\u001b[39m\u001b[39m.\u001b[39mdata\n\u001b[1;32m    683\u001b[0m \u001b[39m# Transform and return\u001b[39;00m\n\u001b[1;32m    684\u001b[0m \u001b[39mreturn\u001b[39;00m transforms\u001b[39m.\u001b[39mreshape_data(\n\u001b[0;32m--> 685\u001b[0m     data\u001b[39m=\u001b[39m\u001b[39mself\u001b[39;49m\u001b[39m.\u001b[39;49mdata,\n\u001b[1;32m    686\u001b[0m     given_dims\u001b[39m=\u001b[39m\u001b[39mself\u001b[39m\u001b[39m.\u001b[39mdims\u001b[39m.\u001b[39morder,\n\u001b[1;32m    687\u001b[0m     return_dims\u001b[39m=\u001b[39mdimension_order_out,\n\u001b[1;32m    688\u001b[0m     \u001b[39m*\u001b[39m\u001b[39m*\u001b[39mkwargs,\n\u001b[1;32m    689\u001b[0m )\n",
      "File \u001b[0;32m~/anaconda3/envs/TB/lib/python3.9/site-packages/aicsimageio/readers/reader.py:403\u001b[0m, in \u001b[0;36mReader.data\u001b[0;34m(self)\u001b[0m\n\u001b[1;32m    395\u001b[0m \u001b[39m@property\u001b[39m\n\u001b[1;32m    396\u001b[0m \u001b[39mdef\u001b[39;00m \u001b[39mdata\u001b[39m(\u001b[39mself\u001b[39m) \u001b[39m-\u001b[39m\u001b[39m>\u001b[39m np\u001b[39m.\u001b[39mndarray:\n\u001b[1;32m    397\u001b[0m \u001b[39m    \u001b[39m\u001b[39m\"\"\"\u001b[39;00m\n\u001b[1;32m    398\u001b[0m \u001b[39m    Returns\u001b[39;00m\n\u001b[1;32m    399\u001b[0m \u001b[39m    -------\u001b[39;00m\n\u001b[1;32m    400\u001b[0m \u001b[39m    data: np.ndarray\u001b[39;00m\n\u001b[1;32m    401\u001b[0m \u001b[39m        The image as a numpy array with native dimension ordering.\u001b[39;00m\n\u001b[1;32m    402\u001b[0m \u001b[39m    \"\"\"\u001b[39;00m\n\u001b[0;32m--> 403\u001b[0m     \u001b[39mreturn\u001b[39;00m \u001b[39mself\u001b[39;49m\u001b[39m.\u001b[39;49mxarray_data\u001b[39m.\u001b[39mdata\n",
      "File \u001b[0;32m~/anaconda3/envs/TB/lib/python3.9/site-packages/aicsimageio/readers/reader.py:372\u001b[0m, in \u001b[0;36mReader.xarray_data\u001b[0;34m(self)\u001b[0m\n\u001b[1;32m    365\u001b[0m \u001b[39m\u001b[39m\u001b[39m\"\"\"\u001b[39;00m\n\u001b[1;32m    366\u001b[0m \u001b[39mReturns\u001b[39;00m\n\u001b[1;32m    367\u001b[0m \u001b[39m-------\u001b[39;00m\n\u001b[1;32m    368\u001b[0m \u001b[39mxarray_data: xr.DataArray\u001b[39;00m\n\u001b[1;32m    369\u001b[0m \u001b[39m    The fully read image and metadata as an annotated data array.\u001b[39;00m\n\u001b[1;32m    370\u001b[0m \u001b[39m\"\"\"\u001b[39;00m\n\u001b[1;32m    371\u001b[0m \u001b[39mif\u001b[39;00m \u001b[39mself\u001b[39m\u001b[39m.\u001b[39m_xarray_data \u001b[39mis\u001b[39;00m \u001b[39mNone\u001b[39;00m:\n\u001b[0;32m--> 372\u001b[0m     \u001b[39mself\u001b[39m\u001b[39m.\u001b[39m_xarray_data \u001b[39m=\u001b[39m \u001b[39mself\u001b[39;49m\u001b[39m.\u001b[39;49m_read_immediate()\n\u001b[1;32m    374\u001b[0m     \u001b[39m# Remake the delayed xarray dataarray object using a rechunked dask array\u001b[39;00m\n\u001b[1;32m    375\u001b[0m     \u001b[39m# from the just retrieved in-memory xarray dataarray\u001b[39;00m\n\u001b[1;32m    376\u001b[0m     \u001b[39mself\u001b[39m\u001b[39m.\u001b[39m_xarray_dask_data \u001b[39m=\u001b[39m xr\u001b[39m.\u001b[39mDataArray(\n\u001b[1;32m    377\u001b[0m         da\u001b[39m.\u001b[39mfrom_array(\u001b[39mself\u001b[39m\u001b[39m.\u001b[39m_xarray_data\u001b[39m.\u001b[39mdata),\n\u001b[1;32m    378\u001b[0m         dims\u001b[39m=\u001b[39m\u001b[39mself\u001b[39m\u001b[39m.\u001b[39m_xarray_data\u001b[39m.\u001b[39mdims,\n\u001b[1;32m    379\u001b[0m         coords\u001b[39m=\u001b[39m\u001b[39mself\u001b[39m\u001b[39m.\u001b[39m_xarray_data\u001b[39m.\u001b[39mcoords,\n\u001b[1;32m    380\u001b[0m         attrs\u001b[39m=\u001b[39m\u001b[39mself\u001b[39m\u001b[39m.\u001b[39m_xarray_data\u001b[39m.\u001b[39mattrs,\n\u001b[1;32m    381\u001b[0m     )\n",
      "File \u001b[0;32m~/anaconda3/envs/TB/lib/python3.9/site-packages/aicsimageio/readers/czi_reader.py:691\u001b[0m, in \u001b[0;36mCziReader._read_immediate\u001b[0;34m(self)\u001b[0m\n\u001b[1;32m    684\u001b[0m dims_shape \u001b[39m=\u001b[39m CziReader\u001b[39m.\u001b[39m_dims_shape_to_scene_dims_shape(\n\u001b[1;32m    685\u001b[0m     dims_shape\u001b[39m=\u001b[39mczi\u001b[39m.\u001b[39mget_dims_shape(),\n\u001b[1;32m    686\u001b[0m     scene_index\u001b[39m=\u001b[39m\u001b[39mself\u001b[39m\u001b[39m.\u001b[39mcurrent_scene_index,\n\u001b[1;32m    687\u001b[0m     consistent\u001b[39m=\u001b[39mczi\u001b[39m.\u001b[39mshape_is_consistent,\n\u001b[1;32m    688\u001b[0m )\n\u001b[1;32m    690\u001b[0m \u001b[39m# Get image data\u001b[39;00m\n\u001b[0;32m--> 691\u001b[0m image_data, _ \u001b[39m=\u001b[39m \u001b[39mself\u001b[39;49m\u001b[39m.\u001b[39;49m_get_image_data(\n\u001b[1;32m    692\u001b[0m     fs\u001b[39m=\u001b[39;49m\u001b[39mself\u001b[39;49m\u001b[39m.\u001b[39;49m_fs,\n\u001b[1;32m    693\u001b[0m     path\u001b[39m=\u001b[39;49m\u001b[39mself\u001b[39;49m\u001b[39m.\u001b[39;49m_path,\n\u001b[1;32m    694\u001b[0m     scene\u001b[39m=\u001b[39;49m\u001b[39mself\u001b[39;49m\u001b[39m.\u001b[39;49mcurrent_scene_index,\n\u001b[1;32m    695\u001b[0m )\n\u001b[1;32m    697\u001b[0m \u001b[39m# Get metadata\u001b[39;00m\n\u001b[1;32m    698\u001b[0m meta \u001b[39m=\u001b[39m czi\u001b[39m.\u001b[39mmeta\n",
      "File \u001b[0;32m~/anaconda3/envs/TB/lib/python3.9/site-packages/aicsimageio/readers/czi_reader.py:339\u001b[0m, in \u001b[0;36mCziReader._get_image_data\u001b[0;34m(fs, path, scene, read_dims)\u001b[0m\n\u001b[1;32m    336\u001b[0m read_dims[CZI_SCENE_DIM_CHAR] \u001b[39m=\u001b[39m adjusted_scene_index\n\u001b[1;32m    338\u001b[0m \u001b[39m# Read image\u001b[39;00m\n\u001b[0;32m--> 339\u001b[0m data, dims \u001b[39m=\u001b[39m czi\u001b[39m.\u001b[39;49mread_image(\u001b[39m*\u001b[39;49m\u001b[39m*\u001b[39;49mread_dims)\n\u001b[1;32m    341\u001b[0m \u001b[39m# Drop dims that shouldn't be provided back\u001b[39;00m\n\u001b[1;32m    342\u001b[0m ops: List[Union[\u001b[39mint\u001b[39m, \u001b[39mslice\u001b[39m]] \u001b[39m=\u001b[39m []\n",
      "File \u001b[0;32m~/anaconda3/envs/TB/lib/python3.9/site-packages/aicspylibczi/CziFile.py:552\u001b[0m, in \u001b[0;36mCziFile.read_image\u001b[0;34m(self, **kwargs)\u001b[0m\n\u001b[1;32m    549\u001b[0m m_index \u001b[39m=\u001b[39m \u001b[39mself\u001b[39m\u001b[39m.\u001b[39m_get_m_index_from_kwargs(kwargs)\n\u001b[1;32m    550\u001b[0m cores \u001b[39m=\u001b[39m \u001b[39mself\u001b[39m\u001b[39m.\u001b[39m_get_cores_from_kwargs(kwargs)\n\u001b[0;32m--> 552\u001b[0m image, shape \u001b[39m=\u001b[39m \u001b[39mself\u001b[39;49m\u001b[39m.\u001b[39;49mreader\u001b[39m.\u001b[39;49mread_selected(plane_constraints, m_index, cores)\n\u001b[1;32m    553\u001b[0m \u001b[39mreturn\u001b[39;00m image, shape\n",
      "\u001b[0;31mKeyboardInterrupt\u001b[0m: "
     ]
    }
   ],
   "source": [
    "from aicsimageio.readers import CziReader\n",
    "import matplotlib.pyplot as plt\n",
    "import cv2 as cv\n",
    "import os\n",
    "\n",
    "# read smear\n",
    "reader = CziReader(\"/mnt/storage/TBProject/TB_sample/2022-06-29/extern_Synlab_2152_42_1_MTB.czi\")\n",
    "\n",
    "# load as numpy array\n",
    "smear = reader.get_image_data(\"MYX\", C=0)\n",
    "\n",
    "if not os.path.exists(\"Smear_2152_42_1\"):\n",
    "    os.mkdir(\"Smear_2152_42_1\")\n",
    "# save all images of the smear in tiff format\n",
    "for idx, img in enumerate(smear):\n",
    "    if idx == 1288:\n",
    "        plt.imsave(f'Smear_2152_42_1/tile_{idx}.tiff', img)\n",
    "    if idx == 1289:\n",
    "        plt.imsave(f'Smear_2152_42_1/tile_{idx}.tiff', img)\n",
    "    if idx == 1290:\n",
    "        plt.imsave(f'Smear_2152_42_1/tile_{idx}.tiff', img)\n",
    "    "
   ]
  },
  {
   "cell_type": "code",
   "execution_count": 1,
   "metadata": {},
   "outputs": [
    {
     "name": "stdout",
     "output_type": "stream",
     "text": [
      "['extern_Synlab_2163_85_3_MTB.czi.json', 'extern_Synlab_2142_48_1_MTB.czi.json', 'extern_Synlab_2154_10_1_MTBok.czi.json', 'extern_Synlab_2153_40wdh_1_MTB.czi.json', 'extern_Synlab_2166_4_1_Mmalmoense.czi.json', 'extern_Synlab_2154_52_1_MTB.czi.json', 'extern_Synlab_2166_18_1_Mmalmoense.czi.json', 'extern_Synlab_2151_104_1_MTB.czi.json', 'extern_Synlab_2142_59_1_MTB.czi.json', 'extern_Synlab_2152_98_1_MTB.czi.json', 'extern_Synlab_2156_17_3_MTB.czi.json', 'extern_Synlab_2153_124_2_MTB.czi.json', 'extern_Synlab_2143_82_9_.czi.json', 'extern_Synlab_2141_87_1_MTB ok.czi.json', 'extern_Synlab_2163_88_4_MTB.czi.json', 'extern_Synlab_2163_89_4_MTB.czi.json', 'extern_Synlab_2164_53_4_MTB.czi.json', 'extern_Synlab_2151_24wdh_0_.czi.json', 'extern_Synlab_2151_62_0_MTB.czi.json', 'extern_Synlab_2152_36_2_MTB-1.czi.json', 'extern_Synlab_2163_64_3_MTB.czi.json', 'extern_Synlab_2162_84_3_MTB.czi.json', 'extern_Synlab_2143_85_1_MTB.czi.json', 'extern_Synlab_2153_40_1_MTB.czi.json', 'extern_Synlab_2141_73_1_MTB.czi.json', 'extern_Synlab_2162_131_1_MTB-OT-gebrochen.czi.json', 'extern-Synlab_2144_64_1_MTB.czi.json', 'extern_Synlab_2154_4_0.czi.json', 'extern_Synlab_2153_15wdh_1_MTB.czi.json', 'extern_Synlab_2154_42_1_MTB.czi.json', 'extern_Synlab_2153_48wdh_1_MTB.czi.json', 'extern_Synlab_2163_90_1_MTB.czi.json', 'extern_Synlab_2163_105_1_MTB.czi.json', 'extern_Synlab_2153_48_1_MTB.czi.json', 'extern_Synlab_2154_110_2_MTB.czi.json', 'extern_Synlab_2153_29wdh_1_MTB.czi.json', 'extern_Synlab_2153_29_1_MTB.czi.json', 'extern_Synlab_2162_82_1_MTB.czi.json', 'extern_Synlab_2143_84_1_MTB.czi.json', 'extern_Synlab_2156_52_4_MTB.czi.json', 'extern_Synlab_2162_83_1_MTB.czi.json', 'extern_Synlab_2151_175_2_MTB.czi.json', 'extern_Synlab_2153_113_0_.czi.json', 'extern_Synlab_2152_99_1_MTB.czi.json', 'extern_Synlab_2145_50wdh_3_MTB.czi.json', 'extern_Synlab_2165_148_2_M. caprae.czi.json', 'extern_Synlab_2151_176_2_MTTB.czi.json', 'extern_Synlab_2142_58_2_MTB.czi.json', 'extern_Synlab_2143_83_1_MTB.czi.json', 'extern_Synlab_2152_97_1_MTB.czi.json', 'extern_Synlab_2151_37_1_MTB.czi.json', 'extern_Synlab_2153 oder 2152_78_1_MTB.czi.json', 'extern_Synlab_2141_79_1_MTB-1.czi.json', 'extern_Synlab_2145_50_3_MTB.czi.json', 'extern_Synlab_2153_15_1_MTB.czi.json', 'extern_Synlab_2151_24_0_MTB.czi.json', 'extern_Synlab_2151_155_2_MTB.czi.json', 'extern_Synlab_2142_95_1_MTB.czi.json', 'extern_Synlab_2153_74_1_MTB.czi.json', 'extern_Synlab_2151_18wdh_0_.czi.json', 'extern_Synlab_2162_6_1_MTB.czi.json', 'extern_Synlab_2144_61_0_MTB.czi.json', 'extern_Synlab_2163_72_3_MTB.czi.json', 'extern_Synlab_2166_6_2_M. malmoense.czi.json', 'extern_Synlab_2145_120_2_MTB.czi.json', 'extern_Synlab_2151_26_3_MTB.czi.json', 'extern_Synlab_2163_69_3_MTB.czi.json', 'extern_Synlab_2163_68_2_MTB1.czi.json', 'extern_Synlab_2163_59wdh_1_M. chelonae.czi.json', 'extern_Synlab_2163_59_1_M. chelonae.czi.json', 'extern_Synlab_2145_107_2_MTB.czi.json', 'extern_Synlab_2163_84_4_MTB.czi.json', 'extern_Synlab_2153_101_1_MTB.czi.json', 'extern_Synlab_2165_89_3_MTB.czi.json', 'extern_Synlab_2164_69_2_MTB.czi.json', 'extern_Synlab_2151_64_1_MTB.czi.json', 'extern_Synlab_2152_42_1_MTB.czi.json', 'extern_Synlab_2145_124_1_MTB.czi.json', 'extern_Synlab_2151_17_3_MTB.czi.json', 'extern_Synlab_2151_18_0_.czi.json', 'extern_Synlab_2164_41_0_.czi.json', 'extern_Synlab_2143_80_1_MTB.czi.json', 'extern_Synlab_2154_55_1_MTB.czi.json', 'extern_Synlab_2142_94_1_MTB.czi.json', 'extern_Synlab_2166_14_2_MTB.czi.json', 'extern_Synlab_2164_26_4_MTB.czi.json', 'extern_Synlab_2163_10_2_MTB.czi.json']\n"
     ]
    },
    {
     "data": {
      "text/plain": [
       "87"
      ]
     },
     "execution_count": 1,
     "metadata": {},
     "output_type": "execute_result"
    }
   ],
   "source": [
    "import os\n",
    "\n",
    "# get list of files in a directory\n",
    "files = os.listdir(\"smears_json\")\n",
    "print(files)\n",
    "len(files)"
   ]
  },
  {
   "cell_type": "code",
   "execution_count": 2,
   "metadata": {},
   "outputs": [],
   "source": [
    "bacilli_count = {}\n",
    "import json\n",
    "bacilli_count[\"smears\"] = {}\n",
    "for file in files:\n",
    "    path = os.path.join(\"smears_json\", file)\n",
    "    with open(path, \"r\") as f:\n",
    "        smear = json.load(f)\n",
    "    bacilli_count[\"smears\"][file] = [smear[\"severity\"], smear[\"tot_num_of_bacilli\"]]\n",
    "    # remove some keys to this dictionary\n",
    "    \n",
    "with open(\"smears_post_processed.json\", \"w\") as f:\n",
    "    json.dump(bacilli_count, f)"
   ]
  },
  {
   "cell_type": "code",
   "execution_count": 3,
   "metadata": {},
   "outputs": [],
   "source": [
    "import numpy as np\n",
    "severity_0 = []\n",
    "severity_1 = []\n",
    "severity_2 = []\n",
    "severity_3 = []\n",
    "severity_4 = []\n",
    "\n",
    "for smear in bacilli_count[\"smears\"]:\n",
    "    if bacilli_count[\"smears\"][smear][0] == \"0\":\n",
    "        severity_0.append(bacilli_count[\"smears\"][smear][1])\n",
    "    if bacilli_count[\"smears\"][smear][0] == \"1\":\n",
    "        severity_1.append(bacilli_count[\"smears\"][smear][1])\n",
    "    if bacilli_count[\"smears\"][smear][0] == \"2\":\n",
    "        severity_2.append(bacilli_count[\"smears\"][smear][1])\n",
    "    if bacilli_count[\"smears\"][smear][0] == \"3\":\n",
    "        severity_3.append(bacilli_count[\"smears\"][smear][1])\n",
    "    if bacilli_count[\"smears\"][smear][0] == \"4\":\n",
    "        severity_4.append(bacilli_count[\"smears\"][smear][1])\n",
    "        \n",
    "bacilli_count[\"0\"] = severity_0\n",
    "bacilli_count[\"1\"] = severity_1\n",
    "bacilli_count[\"2\"] = severity_2\n",
    "bacilli_count[\"3\"] = severity_3\n",
    "bacilli_count[\"4\"] = severity_4\n",
    "\n",
    "bacilli_count[\"average_0\"] = np.mean(severity_0)\n",
    "bacilli_count[\"average_1\"] = np.mean(severity_1)\n",
    "bacilli_count[\"average_2\"] = np.mean(severity_2)\n",
    "bacilli_count[\"average_3\"] = np.mean(severity_3)\n",
    "bacilli_count[\"average_4\"] = np.mean(severity_4)\n",
    "bacilli_count[\"standard_deviation_0\"] = np.std(severity_0)\n",
    "bacilli_count[\"standard_deviation_1\"] = np.std(severity_1)\n",
    "bacilli_count[\"standard_deviation_2\"] = np.std(severity_2)\n",
    "bacilli_count[\"standard_deviation_3\"] = np.std(severity_3)\n",
    "bacilli_count[\"standard_deviation_4\"] = np.std(severity_4)\n",
    " \n",
    "with open(\"smears_post_processed.json\", \"w\") as f:\n",
    "    json.dump(bacilli_count, f)"
   ]
  },
  {
   "cell_type": "code",
   "execution_count": 9,
   "metadata": {},
   "outputs": [
    {
     "data": {
      "image/png": "[encoded data removed]",
      "text/plain": [
       "<Figure size 640x480 with 1 Axes>"
      ]
     },
     "metadata": {},
     "output_type": "display_data"
    }
   ],
   "source": [
    "import matplotlib.pyplot as plt\n",
    "import numpy as np\n",
    "import json\n",
    "\n",
    "with open(\"smears_post_processed.json\", \"r\") as f:\n",
    "    bacilli_count = json.load(f)\n",
    "np.random.seed(123)\n",
    "\n",
    "severity_0 = bacilli_count[\"0\"]\n",
    "severity_1 = bacilli_count[\"1\"]\n",
    "severity_2 = bacilli_count[\"2\"]\n",
    "severity_3 = bacilli_count[\"3\"]\n",
    "severity_4 = bacilli_count[\"4\"]\n",
    "height = [bacilli_count[\"average_0\"], bacilli_count[\"average_1\"], bacilli_count[\"average_2\"], bacilli_count[\"average_3\"], bacilli_count[\"average_4\"]]\n",
    "err = [bacilli_count[\"standard_deviation_0\"],bacilli_count[\"standard_deviation_1\"], bacilli_count[\"standard_deviation_2\"], bacilli_count[\"standard_deviation_3\"], bacilli_count[\"standard_deviation_4\"]]\n",
    "w = 0.5    # bar width\n",
    "x = [0,1,2,3,4] # x-coordinates of your bars\n",
    "severity = [\"0\", \"1\", \"2\", \"3\", \"4\"]\n",
    "colors = [(0, 0, 1, 1), (0, 0, 1, 1), (0, 0, 1, 1), (0, 0, 1, 1)]    # corresponding colors\n",
    "\n",
    "fig, ax = plt.subplots()\n",
    "\n",
    "ax.bar(x=severity, height=height, yerr=err, capsize=12, edgecolor=colors, color=(0,0,0,0), width=w)\n",
    "#        width=w,    # bar width\n",
    "#        tick_label=[\"control\", \"test\"],\n",
    "#        color=(0,0,0,0),  # face color transparent\n",
    "#        edgecolor=colors,\n",
    "#        #ecolor=colors,    # error bar colors; setting this raises an error for whatever reason.\n",
    "#        )\n",
    "\n",
    "ax.scatter(x[0] + np.random.random(len(severity_0)) * w - w / 2, severity_0, color=colors[0])\n",
    "ax.scatter(x[1] + np.random.random(len(severity_1)) * w - w / 2, severity_1, color=colors[1])\n",
    "ax.scatter(x[2] + np.random.random(len(severity_2)) * w - w / 2, severity_2, color=colors[2])\n",
    "ax.scatter(x[3] + np.random.random(len(severity_3)) * w - w / 2, severity_3, color=colors[3])\n",
    "ax.scatter(x[4] + np.random.random(len(severity_4)) * w - w / 2, severity_4, color=colors[3])\n",
    "\n",
    "# save bar plot with points\n",
    "plt.savefig(\"bar_plot_with_points.png\")"
   ]
  }
 ],
 "metadata": {
  "kernelspec": {
   "display_name": "Python 3.9.16 ('TB')",
   "language": "python",
   "name": "python3"
  },
  "language_info": {
   "codemirror_mode": {
    "name": "ipython",
    "version": 3
   },
   "file_extension": ".py",
   "mimetype": "text/x-python",
   "name": "python",
   "nbconvert_exporter": "python",
   "pygments_lexer": "ipython3",
   "version": "3.9.16"
  },
  "orig_nbformat": 4,
  "vscode": {
   "interpreter": {
    "hash": "71b6d7ef45a05a5d5743df4f591e551f542cc24606ba3534ac253452c78eb6d1"
   }
  }
 },
 "nbformat": 4,
 "nbformat_minor": 2
}
