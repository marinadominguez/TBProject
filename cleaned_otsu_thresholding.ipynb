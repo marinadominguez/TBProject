{
 "cells": [
  {
   "cell_type": "code",
   "execution_count": 1,
   "metadata": {
    "collapsed": true
   },
   "outputs": [],
   "source": [
    "from aicsimageio import AICSImage\n",
    "import napari\n",
    "from aicsimageio.readers import CziReader\n",
    "import cv2 as cv\n",
    "import numpy as np\n",
    "import matplotlib.pyplot as plt"
   ]
  },
  {
   "cell_type": "code",
   "execution_count": 55,
   "metadata": {
    "collapsed": false
   },
   "outputs": [],
   "source": [
    "# FUNCTION DEFINITIONS\n",
    "\n",
    "\n",
    "# VISUALIZATION\n",
    "\n",
    "# visualize the image with napari using its numpy array\n",
    "def visualize_napari(numpy_img: np.ndarray,name):\n",
    "    \"\"\"\n",
    "    :param numpy_img: image to be visualized\n",
    "    \"\"\"\n",
    "    with napari.gui_qt():\n",
    "        viewer = napari.Viewer()\n",
    "        viewer.add_image(numpy_img,name=name)\n",
    "\n",
    "\n",
    "# visualize multiple images at once\n",
    "def visualize_all_list_napari(numpy_img_list: np.ndarray,names):\n",
    "    \"\"\"\n",
    "    :param numpy_img_list: list containing different images to be visualized\n",
    "    \"\"\"\n",
    "    with napari.gui_qt():\n",
    "        viewer = napari.Viewer()\n",
    "        for i, img in enumerate(numpy_img_list):\n",
    "            viewer.add_image(img, name=names[i] )\n",
    "\n",
    "\n",
    "\n",
    "\n",
    "# PREPROCESSING\n",
    "\n",
    "# sharpen image\n",
    "def sharpen(image: np.ndarray):\n",
    "    \"\"\"\n",
    "    Sharpen the image\n",
    "    :param image: image to be sharpened\n",
    "    :return: sharp image\n",
    "    \"\"\"\n",
    "    kernel = np.array([[-1,-1,-1], [-1,9,-1], [-1,-1,-1]])\n",
    "    return cv.filter2D(image, -1, kernel)\n",
    "\n",
    "\n",
    "\n",
    "\n",
    "# THRESHOLDING\n",
    "\n",
    "# compute Otsu's thresholding\n",
    "def otsu_thresholding(image : np.ndarray):\n",
    "    \"\"\"\n",
    "    Threshold and binarize an image using Otsu's method\n",
    "\n",
    "    :param image: image you want to threshold\n",
    "    :return: ret: threshold value\n",
    "              th: binary image\n",
    "    \"\"\"\n",
    "    ret,th = cv.threshold(image,0,255,cv.THRESH_BINARY+cv.THRESH_OTSU)\n",
    "    \n",
    "    # ret is the computed value of the threshold AND th is the image with the threshold applied\n",
    "    return ret, th\n",
    "\n",
    "\n",
    "# split the whole images into tiles\n",
    "def split_into_tiles(image : np.ndarray, tile_size: int):\n",
    "    \"\"\"\n",
    "    split image into tiles of shape tile_size*tile_size\n",
    "\n",
    "    :param image: image to be split\n",
    "    :param tile_size: dimensions of single tiles\n",
    "    :return: tiles: list with the different tiles\n",
    "    \"\"\"\n",
    "    tiles = []\n",
    "    \n",
    "    for i in range(0, image.shape[0], tile_size):\n",
    "        for j in range(0, image.shape[1], tile_size):\n",
    "            tile = image[i:i+tile_size, j:j+tile_size]\n",
    "            tiles.append(tile)\n",
    "    \n",
    "    return tiles\n",
    "\n",
    "\n",
    "# reconstruct image from different tiles given the number of tiles in x and y direction and a list of tiles\n",
    "def reconstruct_image(tiles: list, x_tiles: int, y_tiles: int):\n",
    "    \"\"\"\n",
    "    :param tiles:    list with the different single tiles\n",
    "    :param x_tiles:  number of tiles along x axis\n",
    "    :param y_tiles:  number of tiles along y axis\n",
    "    :return:         numpy array, reconstructed image\n",
    "    \"\"\"\n",
    "    big_image = np.zeros((x_tiles*tiles[0].shape[0], y_tiles*tiles[0].shape[1]))\n",
    "    \n",
    "    for i in range(x_tiles):\n",
    "        for j in range(y_tiles):\n",
    "            big_image[i*tiles[0].shape[0]:(i+1)*tiles[0].shape[0], j*tiles[0].shape[1]:(j+1)*tiles[0].shape[1]] = tiles[i*y_tiles+j]\n",
    "    \n",
    "    return big_image\n",
    "\n",
    "\n",
    "# apply Otsu tresholding on tiles after sharpening and splitting image\n",
    "def otsu_split_thresholding(img: np.ndarray, tile_size = 16):\n",
    "    \"\"\"\n",
    "    Perform Otsu tresholding on sub images of 16 x 16,\n",
    "    if a tile is all white do not apply otsu\n",
    "\n",
    "    :param img:  input image\n",
    "    :return thresholded_tiles_sharp: list with thresholded tiles, to be recomposed\n",
    "    \"\"\"\n",
    "    # sharpen image\n",
    "    sharpened_img = sharpen(img)\n",
    "    \n",
    "    # get the maximum of the sharpened img, needed to check if image is all white\n",
    "    max_value=sharpened_img.max()\n",
    "    \n",
    "    # split\n",
    "    tiles_sharpened = split_into_tiles(sharpened_img, tile_size)\n",
    "    \n",
    "    # do thresholding\n",
    "    thresholded_tiles_sharp=[]\n",
    "    \n",
    "    for t in tiles_sharpened:\n",
    "        # check if mostly white #ATTENTION, im touching the og in memory. If yes set direclty to black\n",
    "        if check_all_white_tile(t,max_value):\n",
    "            th = set_zero(t)\n",
    "            thresholded_tiles_sharp.append(th)\n",
    "        # else do thresholding\n",
    "        else:\n",
    "            r,th = otsu_thresholding(t)\n",
    "            thresholded_tiles_sharp.append(th)\n",
    "    \n",
    "    return thresholded_tiles_sharp\n",
    "\n",
    "\n",
    "# clean the result of Otsu's thresholding on tiles\n",
    "def otsu_cleaned_split_thresholding(img):\n",
    "    \"\"\"\n",
    "    Perform otsu thresholding on 16 x 16 images, then clean the image, \n",
    "    delete the noise\n",
    "\n",
    "    :param img: image to be tresholded\n",
    "    :return:    tresholded clean image\n",
    "    \"\"\"\n",
    "    # list with the thresholded tiles size 16x16\n",
    "    thresholded_tiles = otsu_split_thresholding(img,16)\n",
    "\n",
    "    # clean\n",
    "    cleaned_tiles=[]\n",
    "    for tl in thresholded_tiles:\n",
    "        # check if image is not a bacilli\n",
    "        if check_image(tl):\n",
    "            # I'm not a bacilli\n",
    "            m = set_zero(tl)\n",
    "            cleaned_tiles.append(m)\n",
    "        else:\n",
    "            # I am a bacilli\n",
    "            cleaned_tiles.append(tl)\n",
    "\n",
    "    #reconstruct\n",
    "    reconstructed_clean_image = reconstruct_image(cleaned_tiles,128,94)\n",
    "\n",
    "    #final cleaning\n",
    "    #final_cleaned_image = (reconstructed_clean_image)\n",
    "\n",
    "    #visualize\n",
    "    #visualize_all_list_napari([reconstructed_image, reconstructed_clean_image,sharpened_img,img], [\"reconstructed_image\",\"reconstructed_clean_image\",\"sharpened_img\",\"img\"])\n",
    "\n",
    "    return reconstructed_clean_image\n",
    "\n",
    "\n",
    "\n",
    "#POSTPROCESSING\n",
    "\n",
    "# Check whether or not to keep specific tiles of image\n",
    "def check_image(img: np.ndarray):\n",
    "    \"\"\"\n",
    "    For every sub-image we check if its worth keeping or not\n",
    "    215 pretty hard-coded---> maybe rely on scientific paper to find the optimal number\n",
    "\n",
    "    :param img: image to be checked\n",
    "    :return: bool\n",
    "    \"\"\"\n",
    "    if np.sum(img == 0) > 215: #we have a bacilli\n",
    "        return False\n",
    "    else:\n",
    "        return True\n",
    "\n",
    "\n",
    "# set pixels that are 255 to zero (black)\n",
    "def set_zero(img):\n",
    "    h = img\n",
    "    h[h>0] = 0\n",
    "    return h\n",
    "\n",
    "\n",
    "def check_all_white_tile(img,max_value_global):\n",
    "    \"\"\"\n",
    "    Check if we have a huge bright tile. if a 16 x 16 tile is all white--->\n",
    "    we want it black. Check based on global max pixel value\n",
    "\n",
    "    :param img: tile to be checked if white\n",
    "    :param max_value: max value pixel of whole image\n",
    "    :return:\n",
    "    \"\"\"\n",
    "    if np.sum(img > 0.2* max_value_global) > 0.8*img.shape[0]*img.shape[1]:\n",
    "        return True\n",
    "    else:\n",
    "        return False\n",
    "\n",
    "\n",
    "def clean_connected_components(img: np.ndarray):\n",
    "    \"\"\"\n",
    "    Clean image with 2 approaches: delete connected components that have are up to 2 pixels\n",
    "                                   connect bacilli that are separated by just one black pixel\n",
    "\n",
    "    :param img: image to be cleaned\n",
    "    :return:    cleaned image\n",
    "    \"\"\"\n",
    "    # find connected components\n",
    "    num_labels, labels_im, stats, centroids = cv.connectedComponentsWithStats(np.uint8(img), connectivity=8)\n",
    "    # stats = x,y,w,h,area\n",
    "\n",
    "    # put to black connected components which area is equal to 1 or 2\n",
    "    for i in range(1, num_labels):\n",
    "        if stats[i][4] < 3:\n",
    "            img[labels_im == i] = 0\n",
    "\n",
    "    # do not want to connect bacilli in original, want to connect after little components are gone\n",
    "    img2 = img.copy()\n",
    "    \n",
    "    # connect the bacilli, by putting a white tile\n",
    "    for i in range(1, img.shape[0]-1):\n",
    "        for j in range(1, img.shape[1]-1):\n",
    "            if img[i,j] == 0:\n",
    "                if (img[i-1,j] == 255 and img[i+1,j] == 255) or (img[i,j-1] == 255 and img[i,j+1] == 255) \\\n",
    "                        or (img[i-1,j-1] ==255 and img[i+1,j+1]) or (img[i-1,j+1] == 255 and img[i+1,j-1] == 255) \\\n",
    "                        or (img[i-1,j]== 255 and img[i+1,j+1]==255) or (img[i-1,j+1]==255 and img[i+1,j]==255)\\\n",
    "                        or (img[i-1,j]==255 and img[i+1,j-1]==255) or (img[i-1,j-1]==255 and img[i+1,j]==255)\\\n",
    "                        or (img[i,j-1]==255 and img[i+1,j+1]==255) or (img[i,j-1]==255 and img[i-1,j+1]==255)\\\n",
    "                        or (img[i,j+1]==255 and img[i+1,j-1]==255) or (img[i,j+1]==255 and img[i-1,j-1]==255):\n",
    "                    img2[i,j] = 255\n",
    "\n",
    "    return img2\n",
    "\n",
    "\n",
    "# add 2d bounding boxes to the image\n",
    "def add_bounding_boxes(image, stats):\n",
    "    \"\"\"\n",
    "    Add white rectangles around bacilli, based on conected components\n",
    "\n",
    "    :param image: image with bacilli to be boxed\n",
    "    :param coordinates:  coordinates of the center of the bacillus\n",
    "    \"\"\"\n",
    "    for i in range(1,len(stats)):\n",
    "            x = stats[i][0] - 5\n",
    "            #x_max = coordinates[i][0]\n",
    "            y = stats[i][1] - 5\n",
    "            #y_max = coordinates[i][1]\n",
    "            h=stats[i][3]\n",
    "            w=stats[i][2]\n",
    "            cv.rectangle(image, (x, y), (x+w+10, y+h+10), (255, 0, 0), 1)\n",
    "    \n",
    "    return image"
   ]
  },
  {
   "cell_type": "code",
   "execution_count": 3,
   "metadata": {
    "collapsed": false
   },
   "outputs": [],
   "source": [
    "#PIPELINE (until the end)\n",
    "\n",
    "# Load the image\n",
    "reader = CziReader(\"extern_Synlab_2156_17_3_MTB.czi\")\n",
    "\n",
    "# Get whole image\n",
    "smear = reader.get_image_data(\"MYX\", C=0)"
   ]
  },
  {
   "cell_type": "code",
   "execution_count": 45,
   "metadata": {
    "collapsed": false
   },
   "outputs": [],
   "source": [
    "# save in a new variable the information regarding the 673th tile out of 1345\n",
    "img = smear[674]\n",
    "img.shape\n",
    "real_image = img.copy()"
   ]
  },
  {
   "cell_type": "code",
   "execution_count": 46,
   "metadata": {
    "collapsed": false
   },
   "outputs": [],
   "source": [
    "# for comparison\n",
    "_, otsu_thresholded_entire_og_img = otsu_thresholding(img)\n",
    "sharpened_img = sharpen(img)\n",
    "_, otsu_thresholded_entire_sharp_img = otsu_thresholding(sharpened_img)\n"
   ]
  },
  {
   "cell_type": "code",
   "execution_count": 47,
   "metadata": {
    "collapsed": false
   },
   "outputs": [],
   "source": [
    "# do split thresholding\n",
    "otsu_st_16 = reconstruct_image(otsu_split_thresholding(img,16),128,94)"
   ]
  },
  {
   "cell_type": "code",
   "execution_count": 48,
   "metadata": {
    "collapsed": false
   },
   "outputs": [],
   "source": [
    "# do split thresholding and clean noise from thresholding\n",
    "otsu_st_16_cleaned_from_noise = otsu_cleaned_split_thresholding(img)"
   ]
  },
  {
   "cell_type": "code",
   "execution_count": 49,
   "metadata": {
    "collapsed": false
   },
   "outputs": [],
   "source": [
    "# save new copy for comparison, not needed if we dont want comparison\n",
    "a_bit_of_shit_in_our_bacilli_tiles = otsu_st_16_cleaned_from_noise.copy()"
   ]
  },
  {
   "cell_type": "code",
   "execution_count": 50,
   "metadata": {
    "collapsed": false
   },
   "outputs": [],
   "source": [
    "# cut small connected components and connect bacilli\n",
    "cleaning_the_shit_on_the_bacilli_tiles = clean_connected_components(otsu_st_16_cleaned_from_noise)"
   ]
  },
  {
   "cell_type": "code",
   "execution_count": 51,
   "metadata": {
    "collapsed": false
   },
   "outputs": [],
   "source": [
    "# get stats for drawing boxes\n",
    "num_labels, labels_im, stats, centroids = cv.connectedComponentsWithStats(np.uint8(cleaning_the_shit_on_the_bacilli_tiles), connectivity=8)"
   ]
  },
  {
   "cell_type": "code",
   "execution_count": 52,
   "metadata": {
    "collapsed": false
   },
   "outputs": [],
   "source": [
    "# another copy----ask marina\n",
    "bacilli = otsu_st_16_cleaned_from_noise.copy()"
   ]
  },
  {
   "cell_type": "code",
   "execution_count": 58,
   "metadata": {
    "collapsed": false
   },
   "outputs": [],
   "source": [
    "# add the boxes\n",
    "box_bacilli = add_bounding_boxes(bacilli, stats)\n",
    "\n",
    "# add boxes to original image\n",
    "img_copy = img.copy()\n",
    "box_bacilli_og = add_bounding_boxes(img_copy, stats)"
   ]
  },
  {
   "cell_type": "code",
   "execution_count": 59,
   "metadata": {
    "collapsed": false
   },
   "outputs": [
    {
     "name": "stderr",
     "output_type": "stream",
     "text": [
      "c:\\Users\\idabu\\.vscode\\TBProject\\.venv\\lib\\site-packages\\napari\\_qt\\qt_event_loop.py:284: FutureWarning: \n",
      "The 'gui_qt()' context manager is deprecated.\n",
      "If you are running napari from a script, please use 'napari.run()' as follows:\n",
      "\n",
      "    import napari\n",
      "\n",
      "    viewer = napari.Viewer()  # no prior setup needed\n",
      "    # other code using the viewer...\n",
      "    napari.run()\n",
      "\n",
      "In IPython or Jupyter, 'napari.run()' is not necessary. napari will automatically\n",
      "start an interactive event loop for you: \n",
      "\n",
      "    import napari\n",
      "    viewer = napari.Viewer()  # that's it!\n",
      "\n",
      "  warn(\n"
     ]
    }
   ],
   "source": [
    "# visualize\n",
    "visualize_all_list_napari([box_bacilli,box_bacilli_og,cleaning_the_shit_on_the_bacilli_tiles,a_bit_of_shit_in_our_bacilli_tiles,otsu_st_16_cleaned_from_noise,otsu_st_16,img],[\"boxes\",\"boxes in og\",\"no 1s and unite bacilli\", \"a bit of artifacts\",\"cleaned split otsu\",\"split otsu\",\"og\"])"
   ]
  },
  {
   "cell_type": "code",
   "execution_count": 36,
   "metadata": {
    "collapsed": false
   },
   "outputs": [
    {
     "name": "stdout",
     "output_type": "stream",
     "text": [
      "9852870\n"
     ]
    }
   ],
   "source": []
  }
 ],
 "metadata": {
  "kernelspec": {
   "display_name": ".venv",
   "language": "python",
   "name": "python3"
  },
  "language_info": {
   "codemirror_mode": {
    "name": "ipython",
    "version": 3
   },
   "file_extension": ".py",
   "mimetype": "text/x-python",
   "name": "python",
   "nbconvert_exporter": "python",
   "pygments_lexer": "ipython3",
   "version": "3.10.2 (tags/v3.10.2:a58ebcc, Jan 17 2022, 14:12:15) [MSC v.1929 64 bit (AMD64)]"
  },
  "vscode": {
   "interpreter": {
    "hash": "0cf0400bafce4d7edbfaf4891a12032e9db7137fe6873ee0b0e8d57dbd33a75b"
   }
  }
 },
 "nbformat": 4,
 "nbformat_minor": 0
}
