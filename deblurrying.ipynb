{
 "cells": [
  {
   "cell_type": "code",
   "execution_count": null,
   "metadata": {
    "collapsed": true
   },
   "outputs": [],
   "source": [
    "from aicsimageio import AICSImage\n",
    "import napari\n",
    "from aicsimageio.readers import CziReader\n",
    "import cv2 as cv\n",
    "import numpy as np\n",
    "import matplotlib.pyplot as plt"
   ]
  },
  {
   "cell_type": "code",
   "execution_count": null,
   "outputs": [],
   "source": [
    "#VISUALIZATION\n",
    "# visualize the image with napari using its numpy array\n",
    "def visualize_napari(numpy_img: np.ndarray,name):\n",
    "    \"\"\"\n",
    "    :param numpy_img: image to be visualized\n",
    "    \"\"\"\n",
    "    with napari.gui_qt():\n",
    "        viewer = napari.Viewer()\n",
    "        viewer.add_image(numpy_img,name=name)\n",
    "\n",
    "# visualize different images in the same moment\n",
    "def visualize_all_list_napari(numpy_img_list: np.ndarray,names):\n",
    "    \"\"\"\n",
    "    :param numpy_img_list: list containing different images to be visualized\n",
    "    \"\"\"\n",
    "    with napari.gui_qt():\n",
    "        viewer = napari.Viewer()\n",
    "        for i, img in enumerate(numpy_img_list):\n",
    "            viewer.add_image(img, name=names[i] )\n",
    "\n"
   ],
   "metadata": {
    "collapsed": false
   }
  },
  {
   "cell_type": "code",
   "execution_count": null,
   "outputs": [],
   "source": [
    "# Load the image\n",
    "reader = CziReader(\"TB_sample\\extern_Synlab_2156_17_3_MTB.czi\")\n",
    "# Get whole image\n",
    "smear = reader.get_image_data(\"MYX\", C=0)"
   ],
   "metadata": {
    "collapsed": false
   }
  },
  {
   "cell_type": "code",
   "execution_count": null,
   "outputs": [],
   "source": [
    "def is_blurry(image):\n",
    "    #compute laplacian of image\n",
    "    laplacian = cv.Laplacian(image, cv.CV_64F)\n",
    "    #compute variance of laplacian\n",
    "    measure=laplacian.mean()\n",
    "    #print(measure)\n",
    "    return measure"
   ],
   "metadata": {
    "collapsed": false
   }
  },
  {
   "cell_type": "code",
   "execution_count": null,
   "outputs": [],
   "source": [
    "\n",
    "def get_gradient_magnitude(image):\n",
    "    #get the gradient magnitude\n",
    "    sobelx = cv.Sobel(image, cv.CV_64F, 1, 0, ksize=3)\n",
    "    sobely = cv.Sobel(image, cv.CV_64F, 0, 1, ksize=3)\n",
    "    magnitude = np.sqrt(sobelx ** 2 + sobely ** 2)\n",
    "    return magnitude"
   ],
   "metadata": {
    "collapsed": false
   }
  },
  {
   "cell_type": "code",
   "execution_count": null,
   "outputs": [],
   "source": [
    "def sobel(img):\n",
    "    scale=1\n",
    "    delta=0\n",
    "    depth= cv.CV_16S\n",
    "\n",
    "    grad_x = cv.Sobel(img, depth, 1, 0, ksize=3, scale=scale, delta=delta, borderType=cv.BORDER_DEFAULT)\n",
    "    grad_y = cv.Sobel(img, depth, 0, 1, ksize=3, scale=scale, delta=delta, borderType=cv.BORDER_DEFAULT)\n",
    "    abs_grad_x = cv.convertScaleAbs(grad_x)\n",
    "    abs_grad_y = cv.convertScaleAbs(grad_y)\n",
    "    grad = cv.addWeighted(abs_grad_x, 0.5, abs_grad_y, 0.5, 0)\n",
    "    return grad"
   ],
   "metadata": {
    "collapsed": false
   }
  },
  {
   "cell_type": "code",
   "execution_count": null,
   "outputs": [],
   "source": [
    "def is_definitely_blurry(image):\n",
    "    mod=get_gradient_magnitude(image)\n",
    "    mes = mod.mean()\n",
    "    #take into account that images vary in how much white they have\n",
    "    return mes"
   ],
   "metadata": {
    "collapsed": false
   }
  },
  {
   "cell_type": "code",
   "execution_count": null,
   "outputs": [],
   "source": [
    "def is_definitely_blurry2(image):\n",
    "    mod=get_gradient_magnitude(image)\n",
    "    mes = mod.mean()\n",
    "    #take into account that images vary in how much white they have\n",
    "    return mes / image.sum()"
   ],
   "metadata": {
    "collapsed": false
   }
  },
  {
   "cell_type": "code",
   "execution_count": null,
   "outputs": [],
   "source": [
    "def is_blurry_fft(image):\n",
    "    #convert image to grayscale\n",
    "\n",
    "    #find fourier transform\n",
    "    f = np.fft.fft2(image)\n",
    "    fshift = np.fft.fftshift(f)\n",
    "    magnitude_spectrum = 20*np.log(np.abs(fshift))\n",
    "    #find mean of magnitude spectrum\n",
    "    mean = np.mean(magnitude_spectrum)\n",
    "    #print(mean)\n",
    "    #if mean is less than 100 then image is blurry\n",
    "    if mean < 220:\n",
    "        return True\n",
    "    else:\n",
    "        return False\n",
    "#plot spectrum of fft\n",
    "def plot_spectrum(image):\n",
    "    #convert image to grayscale\n",
    "\n",
    "    #find fourier transform\n",
    "    f = np.fft.fft2(image)\n",
    "    fshift = np.fft.fftshift(f)\n",
    "    magnitude_spectrum = 20*np.log(np.abs(fshift))\n",
    "    #find mean of magnitude spectrum\n",
    "    mean = np.mean(magnitude_spectrum)\n",
    "    #print(mean)\n",
    "    #if mean is less than 100 then image is blurry\n",
    "    if mean < 200:\n",
    "        print('blurry')\n",
    "    else:\n",
    "        print('not blurry')\n",
    "    #plot spectrum\n",
    "    plt.subplot(121),plt.imshow(image, cmap = 'gray')\n",
    "    plt.title('Input Image'), plt.xticks([]), plt.yticks([])\n",
    "    plt.subplot(122),plt.imshow(magnitude_spectrum, cmap = 'gray')\n",
    "    plt.title('Magnitude Spectrum'), plt.xticks([]), plt.yticks([])\n",
    "    plt.show()\n",
    "    #save image"
   ],
   "metadata": {
    "collapsed": false
   }
  },
  {
   "cell_type": "code",
   "execution_count": null,
   "outputs": [],
   "source": [
    "def rescale_image(image):\n",
    "    image = image.astype(np.float32)\n",
    "    image -= image.min()\n",
    "    image *= (255.0/image.max())\n",
    "    return image.astype(np.uint8)"
   ],
   "metadata": {
    "collapsed": false
   }
  },
  {
   "cell_type": "code",
   "execution_count": null,
   "outputs": [],
   "source": [
    "img=smear[800]\n",
    "#a=is_blurry2(img)\n",
    "img = rescale_image(img)\n",
    "magn=get_gradient_magnitude(img)\n",
    "mes= is_definitely_blurry(img)\n",
    "print(mes)\n",
    "\n",
    "visualize_all_list_napari([img,magn],[\"og\",\"edges\"])"
   ],
   "metadata": {
    "collapsed": false
   }
  },
  {
   "cell_type": "code",
   "execution_count": null,
   "outputs": [],
   "source": [
    "print(type(smear))\n",
    "mes=[]\n",
    "for tile in smear:\n",
    "    tile = rescale_image(tile)\n",
    "    re=is_definitely_blurry(tile)\n",
    "    #orders other way around\n",
    "    print(\"w/o sum\", re)\n",
    "    re2= is_definitely_blurry2(tile)\n",
    "    print(\" w/ sum\" , re2)\n",
    "    mes.append(re2)\n",
    "\n",
    "#get mean of list\n",
    "g=np.array(mes)\n",
    "s=np.sort(g)\n",
    "f=g.argsort()\n",
    "a=smear[f[0]]\n",
    "b=smear[f[1]]\n",
    "new_smear =  np.stack((a,b), axis=0)\n",
    "\n",
    "\n",
    "\n",
    "\n",
    "print(smear.shape)\n",
    "print(new_smear.shape)\n",
    "\n",
    "for i in range(2,g.shape[0]):\n",
    "    print(i)\n",
    "    if i % 10 ==0:\n",
    "        new_smear = np.concatenate((new_smear, [smear[f[i]]]), axis= 0)"
   ],
   "metadata": {
    "collapsed": false
   }
  },
  {
   "cell_type": "code",
   "execution_count": null,
   "outputs": [],
   "source": [
    " print(new_smear.shape)\n",
    "for i in range(0,len(s),10):\n",
    "  print(s[i]  )\n",
    "visualize_napari(new_smear,'ff')\n"
   ],
   "metadata": {
    "collapsed": false
   }
  }
 ],
 "metadata": {
  "kernelspec": {
   "display_name": "Python 3",
   "language": "python",
   "name": "python3"
  },
  "language_info": {
   "codemirror_mode": {
    "name": "ipython",
    "version": 2
   },
   "file_extension": ".py",
   "mimetype": "text/x-python",
   "name": "python",
   "nbconvert_exporter": "python",
   "pygments_lexer": "ipython2",
   "version": "2.7.6"
  }
 },
 "nbformat": 4,
 "nbformat_minor": 0
}
