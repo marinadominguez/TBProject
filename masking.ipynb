{
 "cells": [
  {
   "cell_type": "code",
   "execution_count": 1,
   "metadata": {},
   "outputs": [],
   "source": [
    "from aicsimageio import AICSImage\n",
    "import napari\n",
    "from aicsimageio.readers import CziReader\n",
    "import cv2 as cv\n",
    "import numpy as np\n",
    "import matplotlib.pyplot as plt"
   ]
  },
  {
   "cell_type": "code",
   "execution_count": 198,
   "metadata": {},
   "outputs": [],
   "source": [
    "# VISUALIZATION\n",
    "\n",
    "# visualize the image with napari using its numpy array\n",
    "def visualize_napari(numpy_img: np.ndarray, name):\n",
    "    \"\"\"\n",
    "    :param numpy_img: image to be visualized\n",
    "    \"\"\"\n",
    "    with napari.gui_qt():\n",
    "        viewer = napari.Viewer()\n",
    "        viewer.add_image(numpy_img, name=name)\n",
    "\n",
    "\n",
    "# visualize multiple images at once\n",
    "def visualize_all_list_napari(numpy_img_list: np.ndarray, names):\n",
    "    \"\"\"\n",
    "    :param numpy_img_list: list containing different images to be visualized\n",
    "    \"\"\"\n",
    "    with napari.gui_qt():\n",
    "        viewer = napari.Viewer()\n",
    "        for i, img in enumerate(numpy_img_list):\n",
    "            viewer.add_image(img, name=names[i])\n",
    "\n",
    "\n",
    "\n",
    "# PREPROCESSING\n",
    "\n",
    "# rescale and convert image \n",
    "def rescale(image: np.ndarray):\n",
    "    \"\"\"\n",
    "    :param image: to  be rescaled\n",
    "    :return: rescaled image\n",
    "    \"\"\"\n",
    "    rescaled_image = (image - np.min(image)) / (np.max(image) - np.min(image)) * 255\n",
    "    # rescaled_image = np.round(rescaled_image).astype(np.uint16)\n",
    "    rescaled_image = np.round(rescaled_image).astype('uint8')\n",
    "    return rescaled_image\n",
    "\n",
    "\n",
    "\n",
    "# THRESHOLDING\n",
    "\n",
    "# apply adaptive thresholding with Gaussian weighted sum\n",
    "def adpt_g_thresholding(image: np.ndarray):\n",
    "    \"\"\"\n",
    "    Threshold and binarize an image using adaptive thresholding using a Gaussian weighted sum\n",
    "\n",
    "    :param image: image you want to threshold\n",
    "    :return: ret: threshold value\n",
    "              th: binary image\n",
    "    \"\"\"\n",
    "    # The threshold value is a gaussian-weighted sum of the neighbourhood (here of size 25) values minus the constant C (which is set to -7)\n",
    "    th = cv.adaptiveThreshold(image,255,cv.ADAPTIVE_THRESH_MEAN_C,cv.THRESH_BINARY,25,-5)\n",
    "    \n",
    "    return th\n",
    "\n",
    "\n",
    "\n",
    "# POSTPROCESSING \n",
    "\n",
    "# remove noise\n",
    "def remove_noise(image: np.ndarray):\n",
    "    \"\"\"\n",
    "    Perform morphological opening and closing to remove noise\n",
    "\n",
    "    :param img: image to be cleaned\n",
    "    :return:    cleaned image\n",
    "    \"\"\"\n",
    "\n",
    "    # define kernel for opening\n",
    "    kernel = cv.getStructuringElement(cv.MORPH_RECT,(2,2))\n",
    "\n",
    "    # perform morphological opening to remove background noise\n",
    "    opening = cv.morphologyEx(image, cv.MORPH_OPEN, kernel)\n",
    "\n",
    "    # perform morphological closing to close small holes inside foreground objects\n",
    "    closing = cv.morphologyEx(opening, cv.MORPH_CLOSE, kernel)\n",
    "    \n",
    "    return closing\n",
    "\n",
    "\n",
    "# add 2D bounding boxes to the image\n",
    "def add_bounding_boxes(image, stats):\n",
    "    \"\"\"\n",
    "    Add white rectangles around bacilli, based on conected components\n",
    "\n",
    "    :param image: image with bacilli to be boxed\n",
    "    :param coordinates:  coordinates of the center of the bacillus\n",
    "    \"\"\"\n",
    "    image_copy = image.copy()\n",
    "    for i in range(1,len(stats)):\n",
    "            x = stats[i][0] - 5\n",
    "            #x_max = coordinates[i][0]\n",
    "            y = stats[i][1] - 5\n",
    "            #y_max = coordinates[i][1]\n",
    "            h=stats[i][3]\n",
    "            w=stats[i][2]\n",
    "            cv.rectangle(image_copy, (x, y), (x+w+10, y+h+10), (255, 0, 0), 1)\n",
    "    \n",
    "    return image_copy"
   ]
  },
  {
   "cell_type": "code",
   "execution_count": 85,
   "metadata": {},
   "outputs": [],
   "source": [
    "# Load the image\n",
    "reader = CziReader(\"extern_Synlab_2156_17_3_MTB.czi\")\n",
    "\n",
    "# Get whole image\n",
    "smear = reader.get_image_data(\"MYX\", C=0)"
   ]
  },
  {
   "cell_type": "code",
   "execution_count": 179,
   "metadata": {},
   "outputs": [],
   "source": [
    "# save 675th tile from smear in separate variable and create a copy for future purposes\n",
    "img = smear[674]"
   ]
  },
  {
   "cell_type": "code",
   "execution_count": 196,
   "metadata": {},
   "outputs": [],
   "source": [
    "# rescale image to uint8\n",
    "rescaled_img = rescale(img)\n",
    "\n",
    "# apply adaptive thresholding using a Gaussian weighted sum\n",
    "thd_img = adpt_g_thresholding(rescaled_img)\n",
    "\n",
    "# remove noise from binarized image using morphological opening and closing \n",
    "cleaned_thd_img = remove_noise(thd_img)\n",
    "\n",
    "# retrieve stats in order to add boxes around connected components, i.e., objects\n",
    "num_labels, labels, stats, centroids = cv.connectedComponentsWithStats(cleaned_thd_img, connectivity=8)\n",
    "\n",
    "# add boxes to cleaned, binarized image\n",
    "masked_thd_img = add_bounding_boxes(cleaned_thd_img, stats)\n",
    "\n",
    "# add boxes to original image\n",
    "masked_img = add_bounding_boxes(img, stats)\n",
    "\n",
    "titles = ['Original Rescaled Image', 'Binarized Image', 'Cleaned Binarized', 'Binarized w/Boxes', 'OG w/Boxes']\n",
    "images = [rescaled_img, thd_img, cleaned_thd_img, masked_thd_img, masked_img]"
   ]
  },
  {
   "cell_type": "code",
   "execution_count": 197,
   "metadata": {},
   "outputs": [
    {
     "name": "stderr",
     "output_type": "stream",
     "text": [
      "c:\\Users\\idabu\\.vscode\\TBProject\\.venv\\lib\\site-packages\\napari\\_qt\\qt_event_loop.py:284: FutureWarning: \n",
      "The 'gui_qt()' context manager is deprecated.\n",
      "If you are running napari from a script, please use 'napari.run()' as follows:\n",
      "\n",
      "    import napari\n",
      "\n",
      "    viewer = napari.Viewer()  # no prior setup needed\n",
      "    # other code using the viewer...\n",
      "    napari.run()\n",
      "\n",
      "In IPython or Jupyter, 'napari.run()' is not necessary. napari will automatically\n",
      "start an interactive event loop for you: \n",
      "\n",
      "    import napari\n",
      "    viewer = napari.Viewer()  # that's it!\n",
      "\n",
      "  warn(\n"
     ]
    }
   ],
   "source": [
    "# visualize\n",
    "visualize_all_list_napari(images, titles)"
   ]
  }
 ],
 "metadata": {
  "kernelspec": {
   "display_name": ".venv",
   "language": "python",
   "name": "python3"
  },
  "language_info": {
   "codemirror_mode": {
    "name": "ipython",
    "version": 3
   },
   "file_extension": ".py",
   "mimetype": "text/x-python",
   "name": "python",
   "nbconvert_exporter": "python",
   "pygments_lexer": "ipython3",
   "version": "3.10.2"
  },
  "orig_nbformat": 4,
  "vscode": {
   "interpreter": {
    "hash": "0cf0400bafce4d7edbfaf4891a12032e9db7137fe6873ee0b0e8d57dbd33a75b"
   }
  }
 },
 "nbformat": 4,
 "nbformat_minor": 2
}
